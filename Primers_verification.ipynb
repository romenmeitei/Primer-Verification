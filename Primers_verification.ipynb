{
  "nbformat": 4,
  "nbformat_minor": 0,
  "metadata": {
    "colab": {
      "provenance": [],
      "authorship_tag": "ABX9TyNZek+KRwGEavhqiXCKE3tR",
      "include_colab_link": true
    },
    "kernelspec": {
      "name": "python3",
      "display_name": "Python 3"
    },
    "language_info": {
      "name": "python"
    }
  },
  "cells": [
    {
      "cell_type": "markdown",
      "metadata": {
        "id": "view-in-github",
        "colab_type": "text"
      },
      "source": [
        "<a href=\"https://colab.research.google.com/github/romenmeitei/Primer-Verification/blob/main/Primers_verification.ipynb\" target=\"_parent\"><img src=\"https://colab.research.google.com/assets/colab-badge.svg\" alt=\"Open In Colab\"/></a>"
      ]
    },
    {
      "cell_type": "code",
      "execution_count": 23,
      "metadata": {
        "colab": {
          "base_uri": "https://localhost:8080/"
        },
        "id": "RyCf_tOiikiV",
        "outputId": "42d7a5f2-5fcd-4755-ff8e-cd0c86fa2035"
      },
      "outputs": [
        {
          "output_type": "stream",
          "name": "stdout",
          "text": [
            "Requirement already satisfied: biopython in /usr/local/lib/python3.10/dist-packages (1.84)\n",
            "Requirement already satisfied: numpy in /usr/local/lib/python3.10/dist-packages (from biopython) (1.26.4)\n"
          ]
        }
      ],
      "source": [
        "## Step 1. Install required programm\n",
        "!pip install biopython\n",
        "from Bio import SeqIO, Seq\n",
        "from Bio.Seq import Seq\n",
        "from Bio.SeqUtils import nt_search\n"
      ]
    },
    {
      "cell_type": "code",
      "source": [
        "#Grant access to your Google drive to load your fasta file.\n",
        "from google.colab import drive\n",
        "drive.mount('/content/drive')\n"
      ],
      "metadata": {
        "colab": {
          "base_uri": "https://localhost:8080/"
        },
        "id": "Zek5VuARj6Rq",
        "outputId": "2830beb6-4414-44c7-e95b-dc6d5a4b24c5"
      },
      "execution_count": 24,
      "outputs": [
        {
          "output_type": "stream",
          "name": "stdout",
          "text": [
            "Drive already mounted at /content/drive; to attempt to forcibly remount, call drive.mount(\"/content/drive\", force_remount=True).\n"
          ]
        }
      ]
    },
    {
      "cell_type": "code",
      "source": [
        "# Define your forward and reverse primers as strings\n",
        "forward_primer = \"CGCTTCTGCTGGTGCTGAAT\"\n",
        "reverse_primer = \"CGTGCAGTAGCGTTAGGGTA\"\n",
        "\n",
        "# Load the ompA gene sequence from the FASTA file\n",
        "gene_seq_path = \"/content/drive/MyDrive/Genome Analysis/sequence.fasta\"\n",
        "record = SeqIO.read(gene_seq_path, \"fasta\")\n",
        "ompA_seq = record.seq\n"
      ],
      "metadata": {
        "id": "ktlFNuvykNN7"
      },
      "execution_count": 12,
      "outputs": []
    },
    {
      "cell_type": "code",
      "source": [
        "# Search for forward primer in the ompA sequence\n",
        "forward_matches = nt_search(str(ompA_seq), forward_primer)\n",
        "reverse_matches = nt_search(str(ompA_seq), reverse_primer)\n",
        "\n",
        "print(\"Forward Primer Matches at positions:\", forward_matches[1:])\n",
        "print(\"Reverse Primer Matches at positions:\", reverse_matches[1:])\n"
      ],
      "metadata": {
        "colab": {
          "base_uri": "https://localhost:8080/"
        },
        "id": "4-zlwaE1kqzC",
        "outputId": "3585834f-0afb-4097-d3c1-4da4a837c6b2"
      },
      "execution_count": 13,
      "outputs": [
        {
          "output_type": "stream",
          "name": "stdout",
          "text": [
            "Forward Primer Matches at positions: [197]\n",
            "Reverse Primer Matches at positions: []\n"
          ]
        }
      ]
    },
    {
      "cell_type": "code",
      "source": [
        "\n",
        "from Bio.Align import PairwiseAligner\n"
      ],
      "metadata": {
        "id": "PGiz4y0-mL06"
      },
      "execution_count": 14,
      "outputs": []
    },
    {
      "cell_type": "code",
      "source": [
        "from Bio import Entrez  # Import the Entrez module from Biopython\n",
        "\n",
        "# Replace with your NCBI API key if available\n",
        "Entrez.email = \"romens72@gmail.com\"\n",
        "\n",
        "# Use the accession number for the ompA gene\n",
        "accession_number = \"KJ363323\"\n",
        "\n",
        "# Example code to fetch data using Entrez\n",
        "with Entrez.efetch(db=\"nucleotide\", id=accession_number, rettype=\"gb\", retmode=\"text\") as handle:\n",
        "    sequence_data = handle.read()\n",
        "    print(sequence_data)\n"
      ],
      "metadata": {
        "colab": {
          "base_uri": "https://localhost:8080/"
        },
        "id": "dBuOTGPem08w",
        "outputId": "8a708736-aaf5-4f23-85f2-2061b2250729"
      },
      "execution_count": 17,
      "outputs": [
        {
          "output_type": "stream",
          "name": "stdout",
          "text": [
            "LOCUS       KJ363323                 947 bp    DNA     linear   BCT 12-APR-2014\n",
            "DEFINITION  Acinetobacter baumannii strain B-1394A OmpA (ompA) gene, partial\n",
            "            cds.\n",
            "ACCESSION   KJ363323\n",
            "VERSION     KJ363323.1\n",
            "KEYWORDS    .\n",
            "SOURCE      Acinetobacter baumannii\n",
            "  ORGANISM  Acinetobacter baumannii\n",
            "            Bacteria; Pseudomonadati; Pseudomonadota; Gammaproteobacteria;\n",
            "            Moraxellales; Moraxellaceae; Acinetobacter; Acinetobacter\n",
            "            calcoaceticus/baumannii complex.\n",
            "REFERENCE   1  (bases 1 to 947)\n",
            "  AUTHORS   Astashkin,E.I., Kartsev,N.N., Knyazeva,A.I. and Fursova,N.K.\n",
            "  TITLE     Direct Submission\n",
            "  JOURNAL   Submitted (24-JAN-2014) Molecular microbiology, State Research\n",
            "            Center for applied Microbiology and Biotechnology, Biologov\n",
            "            prospect, Obolensk, Moscow region 142279, Russia\n",
            "COMMENT     ##Assembly-Data-START##\n",
            "            Sequencing Technology :: Sanger dideoxy sequencing\n",
            "            ##Assembly-Data-END##\n",
            "FEATURES             Location/Qualifiers\n",
            "     source          1..947\n",
            "                     /organism=\"Acinetobacter baumannii\"\n",
            "                     /mol_type=\"genomic DNA\"\n",
            "                     /strain=\"B-1394A\"\n",
            "                     /isolation_source=\"bronchoalveolar lavage; nosocomial\"\n",
            "                     /host=\"Homo sapiens\"\n",
            "                     /db_xref=\"taxon:470\"\n",
            "                     /geo_loc_name=\"Russia\"\n",
            "                     /collection_date=\"16-Sep-2013\"\n",
            "                     /collected_by=\"Alexandrova I., Ershova O.\"\n",
            "     gene            <1..>947\n",
            "                     /gene=\"ompA\"\n",
            "     CDS             <1..>947\n",
            "                     /gene=\"ompA\"\n",
            "                     /function=\"permeability\"\n",
            "                     /note=\"porin protein\"\n",
            "                     /codon_start=1\n",
            "                     /transl_table=11\n",
            "                     /product=\"OmpA\"\n",
            "                     /protein_id=\"AHW42434.1\"\n",
            "                     /translation=\"GVTVTPLLLGYTFQDSQHNNGGKDGNLTNGPELQDDLFVGAALG\n",
            "                     IELTPWLGFEAEYNQVKGDVDGASAGAEYKQKQINGNFYVTSDLITKNYDSKIKPYVL\n",
            "                     LGAGHYKYDFDGVNRGTRGTSEEGTLGNAGVGAFWRLNDALSLRTEARATYNADEEFW\n",
            "                     NYTALAGLNVVLGGHLKPAAPVVEVAPVEPTPVAPQPQELTEDLNMELRVFFDTNKSN\n",
            "                     IKDQYKPEIAKVAEKLSEYPNATARIEGHTDNTGPRKLNERLSLARANSVKSALVNEY\n",
            "                     NVDASRLSTQGFAWDQPIADNKTKEGRAMNRRVFATITG\"\n",
            "ORIGIN      \n",
            "        1 ggcgtaacag ttactccatt attgcttggt tacactttcc aagacagcca acacaacaat\n",
            "       61 ggcggtaaag atggtaattt aactaacggt cctgagttac aagacgattt attcgttggc\n",
            "      121 gcagctcttg gtatcgagtt aactccatgg ttaggtttcg aagctgaata taaccaagtt\n",
            "      181 aaaggcgacg tagacggcgc ttctgctggt gctgaatata aacaaaaaca aatcaacggt\n",
            "      241 aacttctatg ttacttctga tttaattact aaaaactacg acagcaaaat caagccgtac\n",
            "      301 gtattattag gtgctggtca ctataaatac gactttgatg gcgtaaaccg tggtacacgt\n",
            "      361 ggtacttctg aagaaggtac tttaggtaac gctggtgttg gtgctttctg gcgcttaaac\n",
            "      421 gacgctttat ctcttcgtac tgaagctcgt gctacttata atgctgatga agagttctgg\n",
            "      481 aactatacag ctcttgctgg cttaaacgta gttcttggtg gtcacttgaa gcctgctgct\n",
            "      541 cctgtagtag aagttgctcc agttgaacca actccagttg ctccacaacc acaagagtta\n",
            "      601 actgaagacc ttaacatgga acttcgtgtg ttctttgata ctaacaaatc aaacatcaaa\n",
            "      661 gaccaataca agccagaaat tgctaaagtt gctgaaaaat tatctgaata ccctaacgct\n",
            "      721 actgcacgta tcgaaggtca cacagataac actggtccac gtaagttgaa cgaacgttta\n",
            "      781 tctttagctc gtgctaactc tgttaaatca gctcttgtaa acgaatacaa cgttgatgct\n",
            "      841 tctcgtttgt ctactcaagg tttcgcttgg gatcaaccga ttgctgacaa caaaactaaa\n",
            "      901 gaaggtcgtg ctatgaaccg tcgtgtattc gcgacaatca ctggtag\n",
            "//\n",
            "\n",
            "\n"
          ]
        }
      ]
    },
    {
      "cell_type": "code",
      "source": [
        "forward_primer = \"CGCTTCTGCTGGTGCTGAAT\"\n",
        "reverse_primer = \"CGTGCAGTAGCGTTAGGGTA\"\n",
        "\n",
        "# Check if reverse primer is in 5'-3' orientation; if not, reverse complement it\n",
        "reverse_primer_seq = Seq(reverse_primer)\n",
        "reverse_primer = str(reverse_primer_seq.reverse_complement())\n",
        "print(\"Reverse Complemented Reverse Primer:\", reverse_primer)\n"
      ],
      "metadata": {
        "colab": {
          "base_uri": "https://localhost:8080/"
        },
        "id": "FYYlE3Ajm5Cm",
        "outputId": "4c269254-22e1-468a-8b92-489d449c2a22"
      },
      "execution_count": 18,
      "outputs": [
        {
          "output_type": "stream",
          "name": "stdout",
          "text": [
            "Reverse Complemented Reverse Primer: TACCCTAACGCTACTGCACG\n"
          ]
        }
      ]
    },
    {
      "cell_type": "code",
      "source": [
        "from Bio.SeqUtils import nt_search\n",
        "\n",
        "# Define your primers\n",
        "forward_primer = \"CGCTTCTGCTGGTGCTGAAT\".replace(\" \", \"\").upper()\n",
        "reverse_primer = \"CGTGCAGTAGCGTTAGGGTA\".replace(\" \", \"\").upper()\n",
        "\n",
        "# Check if reverse primer is in 5'-3' orientation; if not, reverse complement it\n",
        "reverse_primer_seq = Seq(reverse_primer)\n",
        "reverse_primer = str(reverse_primer_seq.reverse_complement())\n",
        "print(\"Reverse Complemented Reverse Primer:\", reverse_primer)\n",
        "\n",
        "# Search for forward primer in the ompA sequence\n",
        "forward_matches = nt_search(str(ompA_seq), forward_primer)\n",
        "reverse_matches = nt_search(str(ompA_seq), reverse_primer)\n",
        "\n",
        "# Display the results\n",
        "print(\"Forward Primer Matches at positions:\", forward_matches[1:])\n",
        "print(\"Reverse Primer Matches at positions:\", reverse_matches[1:])\n"
      ],
      "metadata": {
        "colab": {
          "base_uri": "https://localhost:8080/"
        },
        "id": "Pim9tnwXnZRB",
        "outputId": "5c99cfbd-4060-4fea-9eb1-4eb82d76aefd"
      },
      "execution_count": 20,
      "outputs": [
        {
          "output_type": "stream",
          "name": "stdout",
          "text": [
            "Reverse Complemented Reverse Primer: TACCCTAACGCTACTGCACG\n",
            "Forward Primer Matches at positions: [197]\n",
            "Reverse Primer Matches at positions: [708]\n"
          ]
        }
      ]
    },
    {
      "cell_type": "code",
      "source": [
        "# Calculate the distance between the primers\n",
        "forward_pos = 197\n",
        "reverse_pos = 708\n",
        "reverse_primer_length = len(reverse_primer)\n",
        "\n",
        "# Calculate the size of the PCR product\n",
        "pcr_product_size = reverse_pos - forward_pos + reverse_primer_length\n",
        "print(f\"Expected PCR Product Size: {pcr_product_size} bp\")\n"
      ],
      "metadata": {
        "colab": {
          "base_uri": "https://localhost:8080/"
        },
        "id": "T67ojgh-oCC-",
        "outputId": "5cbb8a18-a9e1-465c-fc6b-0901f54bc60c"
      },
      "execution_count": 21,
      "outputs": [
        {
          "output_type": "stream",
          "name": "stdout",
          "text": [
            "Expected PCR Product Size: 531 bp\n"
          ]
        }
      ]
    },
    {
      "cell_type": "code",
      "source": [
        "pcr_product_size = 708 - 197 + len(\"TACCCTAACGCTACTGCACG\")\n"
      ],
      "metadata": {
        "id": "cd48RyhloGk5"
      },
      "execution_count": 22,
      "outputs": []
    }
  ]
}